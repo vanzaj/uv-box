{
 "cells": [
  {
   "cell_type": "markdown",
   "id": "c817190f-ad11-4aaa-bef0-6780b8a3cf9e",
   "metadata": {},
   "source": [
    "# Notes on \"OpenAI GPT for Python Devs\"\n",
    "\n",
    "by Aymen El Amri\n",
    "\n",
    "1 token is about 4 letters for standard English words. 100 tokens is about 75 words. 8K tokens is about 12 pages of text. 32K tokens is about 50 pages."
   ]
  },
  {
   "cell_type": "code",
   "execution_count": null,
   "id": "bdacbfee-41cd-4a05-bc70-86ec43f483d9",
   "metadata": {
    "editable": true,
    "slideshow": {
     "slide_type": ""
    },
    "tags": []
   },
   "outputs": [],
   "source": [
    "import os\n",
    "from datetime import datetime\n",
    "from dotenv import load_dotenv\n",
    "from openai import OpenAI\n",
    "\n",
    "load_dotenv()\n",
    "client = OpenAI(api_key=os.getenv('OPENAI_API_KEY'))"
   ]
  },
  {
   "cell_type": "code",
   "execution_count": null,
   "id": "58ed26f0-9044-49fc-babe-a1e76589b5cf",
   "metadata": {},
   "outputs": [],
   "source": [
    "# get available models\n",
    "\n",
    "models = [(m.id, m.created) for m in client.models.list()]\n",
    "for model in sorted(models, key=lambda x: x[1]):  # sort by datetime\n",
    "    print(f\"{model[0]}, created: {datetime.fromtimestamp(model[1])}\")\n",
    "\n"
   ]
  },
  {
   "cell_type": "code",
   "execution_count": null,
   "id": "342fbf45-4a43-4960-a95c-964737d378d3",
   "metadata": {},
   "outputs": [],
   "source": [
    "model = \"gpt-3.5-turbo\"\n",
    "\n",
    "messages = [\n",
    "    {\n",
    "    \"role\": \"system\",\n",
    "    \"content\": \"You are a smart and creative assistant.\"\n",
    "    },\n",
    "    {\"role\": \"user\",\n",
    "     \"content\": \"Who is Michael Jackson\"}\n",
    "]\n",
    "\n",
    "response = client.chat.completions.create(model=model, messages=messages, max_tokens=50)\n",
    "print(response.usage)\n",
    "print(\"---\"*10)\n",
    "\n",
    "print(\"Short answer:\", response.choices[0].message.content)\n",
    "print(\"---\"*10)\n",
    "\n",
    "response = client.chat.completions.create(model=model, messages=messages, max_tokens=500)\n",
    "print(\"Long answer: \", response.choices[0].message.content)\n",
    "print(\"---\"*10)\n",
    "\n",
    "response = client.chat.completions.create(model=model, messages=messages, max_tokens=100, stop=[\".\"])\n",
    "print(\"Stop answer: \", response.choices[0].message.content + \".\")\n"
   ]
  },
  {
   "cell_type": "code",
   "execution_count": null,
   "id": "e755a3c7-6e95-4e80-b125-1757b9de7f4b",
   "metadata": {},
   "outputs": [],
   "source": [
    "def single_query(messages, model=\"chatgpt-4o-latest\"):\n",
    "    response = client.chat.completions.create(model=model, messages=messages)\n",
    "    print(response.choices[0].message.content)\n",
    "\n",
    "\n",
    "messages = [\n",
    "    {\"role\": \"system\", \"content\": \"You are an expert technical (XP) coach\"},\n",
    "    {\"role\": \"user\", \"content\": \"List all XP values and practices\"},\n",
    "]\n",
    "single_query(messages)"
   ]
  },
  {
   "cell_type": "code",
   "execution_count": null,
   "id": "39d8ac79-643a-45d8-bdc3-ca3f4b8bff40",
   "metadata": {},
   "outputs": [],
   "source": [
    "def multiple_query(messages, n=2):\n",
    "    response = client.chat.completions.create(\n",
    "        model=model, messages=messages, n=n, stop=[\"\\n\"]\n",
    "    )\n",
    "    for choice in response.choices:\n",
    "        print(f\"Choice:{choice.index}\")\n",
    "        print(choice.message.content)\n",
    "        print()\n",
    "\n",
    "\n",
    "messages = [\n",
    "    {\"role\": \"system\", \"content\": \"you are an expert XP developer\"},\n",
    "    {\"role\": \"user\", \"content\": \"Describe the meaning of Collective Code Ownership\"},\n",
    "]\n",
    "\n",
    "multiple_query(messages, n=3)"
   ]
  },
  {
   "cell_type": "code",
   "execution_count": null,
   "id": "e02f542c-7155-4531-8077-5ec182695569",
   "metadata": {},
   "outputs": [],
   "source": [
    "# Chaining: use gpt to build a prompt\n",
    "\n",
    "model=\"chatgpt-4o-latest\"\n",
    "\n",
    "messages = [\n",
    "    {\"role\": \"system\", \"content\": \"You are an expert in japanese poetry.\"},\n",
    "    {\"role\": \"user\", \"content\": \"Write a concise paragraph about japanese haiku.\"},\n",
    "]\n",
    "\n",
    "# ask for a creative response\n",
    "response = client.chat.completions.create(model=model, messages=messages, max_tokens=200, temperature=0.5, \n",
    "                                          stop=[\"assisstant:\", \"user:\"])\n",
    "\n",
    "paragraph = response.choices[0].message.content\n",
    "\n",
    "messages = [\n",
    "    {\"role\": \"system\", \"content\": \"You are a poet.\"},\n",
    "    {\"role\": \"user\", \"content\": f\"Context: {paragraph}.\\n Task: Create 3 haikus about water and mountains in autumn.\"}\n",
    "]\n",
    "\n",
    "response = client.chat.completions.create(model=model, messages=messages, max_tokens=200, temperature=1,\n",
    "                                          stop=[\"assistant:\", \"user:\"])\n",
    "\n",
    "haikus = response.choices[0].message.content\n",
    "\n",
    "print(f\"Context:\\n{paragraph}\\n\")\n",
    "print(f\"Result:\\n{haikus}\\n\")\n"
   ]
  },
  {
   "cell_type": "code",
   "execution_count": null,
   "id": "60d1910b-c19d-4985-b19f-3e94dc0413f7",
   "metadata": {},
   "outputs": [],
   "source": [
    "# streaming\n",
    "\n",
    "model = \"chatgpt-4o-latest\"\n",
    "\n",
    "messages = [\n",
    "    {\"role\": \"system\", \"content\": \"You are a fantasy writer.\"},\n",
    "    {\"role\": \"user\", \"content\": \"Once upon a time \"}\n",
    "]\n",
    "\n",
    "response = client.chat.completions.create(model=model, messages=messages, max_tokens=200, temperature=0.5, stream=True)\n",
    "\n",
    "for message in response:\n",
    "    content = message.choices[0].delta.content\n",
    "    if content:\n",
    "        print(content, end=\"\")\n"
   ]
  },
  {
   "cell_type": "code",
   "execution_count": null,
   "id": "b8a1b280-ce24-423e-bd76-77bc2d772e2d",
   "metadata": {},
   "outputs": [],
   "source": []
  }
 ],
 "metadata": {
  "kernelspec": {
   "display_name": "Python 3 (ipykernel)",
   "language": "python",
   "name": "python3"
  },
  "language_info": {
   "codemirror_mode": {
    "name": "ipython",
    "version": 3
   },
   "file_extension": ".py",
   "mimetype": "text/x-python",
   "name": "python",
   "nbconvert_exporter": "python",
   "pygments_lexer": "ipython3",
   "version": "3.12.7"
  }
 },
 "nbformat": 4,
 "nbformat_minor": 5
}
