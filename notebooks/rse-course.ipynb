{
 "cells": [
  {
   "cell_type": "markdown",
   "id": "a8d5041c-d85d-4bae-870b-ac212d3614cc",
   "metadata": {},
   "source": [
    "# RSE course practice\n",
    "\n",
    "[Research Software Engineering with Python](https://alan-turing-institute.github.io/rse-course/html/index.html)\n"
   ]
  },
  {
   "cell_type": "markdown",
   "id": "b32d3924-6bf3-4a3b-9638-fa8d47b5a376",
   "metadata": {},
   "source": [
    "## 1.9 Exercise Maze Model\n",
    "\n",
    "Work with a partner to design a data structure to represent a **maze** using dictionaries and lists.\n",
    "  - Each **place** in the maze has a name, which is a string.\n",
    "  - Each place in the maze has one or more **people** currently standing at it, by name.\n",
    "  - Each place in the maze has a maximum capacity of people that can fit in it.\n",
    "  - From each place in the maze, you can go from that place to a few other places, using a direction like ‘up’, ‘north’, or ‘sideways’\n",
    "\n",
    "Create an example instance, in a notebook, of a simple structure for your maze:\n",
    "  - The front room can hold 2 people. James is currently there. You can go outside to the garden, or upstairs to the bedroom, or north to the kitchen.\n",
    "  - From the kitchen, you can go south to the front room. It fits 1 person.\n",
    "  - From the garden you can go inside to front room. It fits 3 people. Sue is currently there.\n",
    "  - From the bedroom, you can go downstairs to the front room. You can also jump out of the window to the garden. It fits 2 people.\n",
    "\n",
    "Make sure that your model:\n",
    "  - Allows empty rooms\n",
    "  - Allows you to jump out of the upstairs window, but not to fly back up.\n",
    "  - Allows rooms which people can’t fit in."
   ]
  },
  {
   "cell_type": "code",
   "execution_count": null,
   "id": "0a239adb-6608-46b7-8acd-a19eb3046a46",
   "metadata": {},
   "outputs": [],
   "source": [
    "frontroom = {\"name\": \"FrontRoom\",\n",
    "             \"occupants\": [\"James\"],\n",
    "             \"max_capacity\": 2,\n",
    "             \"directions\": [{\"outside\": \"Garden\"}, {\"upstairs\": \"Bedroom\"}, {\"north\": \"Kitchen\"}]\n",
    "            }\n",
    "kitchen = {\"name\": \"Kitchen\",\n",
    "           \"occupants\": [],\n",
    "           \"max_capacity\": 1,\n",
    "           \"directions\": {\"south\": \"FrontRoom\"}\n",
    "          }\n",
    "garden = {}\n",
    "bedroom = {}\n",
    "maze = [frontroom, kitchen]\n",
    "\n",
    "d = {room[\"name\"]:room[\"max_capacity\"] for room in maze}\n",
    "d"
   ]
  },
  {
   "cell_type": "markdown",
   "id": "082e3926-ad54-41cf-9b5b-8ddb4d909c75",
   "metadata": {},
   "source": [
    "## 2.3 Working with files"
   ]
  },
  {
   "cell_type": "code",
   "execution_count": null,
   "id": "25e9c544-8b5c-4c88-baf7-0afff6e80737",
   "metadata": {},
   "outputs": [],
   "source": [
    "from pathlib import Path"
   ]
  },
  {
   "cell_type": "code",
   "execution_count": null,
   "id": "97f3f866-c961-4f95-a23a-3aca6e2b50e9",
   "metadata": {},
   "outputs": [],
   "source": [
    "p = Path(\"~/tmp/test.txt\").expanduser()\n",
    "p"
   ]
  },
  {
   "cell_type": "code",
   "execution_count": null,
   "id": "e459ccbb-7fcb-489d-9c15-d6dee592ea1c",
   "metadata": {},
   "outputs": [],
   "source": [
    "pp = Path(\"~\").expanduser() / \"tmp/test.txt\"\n",
    "pp"
   ]
  },
  {
   "cell_type": "code",
   "execution_count": null,
   "id": "73c18ec4-4718-4530-a986-f08e729c0719",
   "metadata": {},
   "outputs": [],
   "source": [
    "assert pp == p"
   ]
  },
  {
   "cell_type": "code",
   "execution_count": null,
   "id": "38ac3ec6-065b-44ba-8be0-3f2c7a8ff603",
   "metadata": {},
   "outputs": [],
   "source": [
    "%%writefile {p}\n",
    "Hello world\n",
    "I have nothing to say"
   ]
  },
  {
   "cell_type": "code",
   "execution_count": null,
   "id": "b0ed2c3b-bd07-417e-9fc4-24b54233a943",
   "metadata": {},
   "outputs": [],
   "source": [
    "txt = p.read_text()\n",
    "print(txt)"
   ]
  },
  {
   "cell_type": "markdown",
   "id": "9077b3f2-d4fb-4480-b664-cb386eaadcab",
   "metadata": {},
   "source": [
    "## 2.4 Downloading data"
   ]
  },
  {
   "cell_type": "code",
   "execution_count": null,
   "id": "aa99912a-594d-4f54-855f-73959abc4a95",
   "metadata": {},
   "outputs": [],
   "source": [
    "import requests\n",
    "from IPython.display import Image"
   ]
  },
  {
   "cell_type": "code",
   "execution_count": null,
   "id": "e4b5589d-2f12-426f-afd1-bb0ad7b4e226",
   "metadata": {},
   "outputs": [],
   "source": [
    "response = requests.get(\n",
    "    \"https://static-maps.yandex.ru:443/1.x\",\n",
    "    params={\n",
    "        \"size\": \"400,400\",  # size of map\n",
    "        \"ll\": \"-0.1275,51.51\",  # longitude & latitude of centre\n",
    "        \"z\": 12,  # zoom level\n",
    "        \"l\": \"sat\",  # map layer (satellite image)\n",
    "        \"lang\": \"en_US\",  # language\n",
    "    },\n",
    "    timeout=60,\n",
    ")"
   ]
  },
  {
   "cell_type": "code",
   "execution_count": null,
   "id": "244dfe9f-b9c2-44a6-9585-dcce179b65d7",
   "metadata": {},
   "outputs": [],
   "source": [
    "Image(response.content)"
   ]
  },
  {
   "cell_type": "code",
   "execution_count": null,
   "id": "413b336d-ec60-4f0e-ac7e-1afafc516599",
   "metadata": {},
   "outputs": [],
   "source": [
    "sun_spots = requests.get(\"http://www.sidc.be/silso/INFO/snmtotcsv.php\", timeout=60).text\n",
    "    \n",
    "sun_spots.split('\\n')[:10]"
   ]
  },
  {
   "cell_type": "markdown",
   "id": "70bf90bc-fc64-4bc9-b505-ab00d6915f78",
   "metadata": {},
   "source": [
    "## 2.5 Data analysis example"
   ]
  },
  {
   "cell_type": "code",
   "execution_count": null,
   "id": "ecf6f304-3249-436f-9bd8-ba7d3470865e",
   "metadata": {},
   "outputs": [],
   "source": [
    "from typing import Tuple"
   ]
  },
  {
   "cell_type": "code",
   "execution_count": null,
   "id": "53f8c3b6-74ba-4d2c-a8b6-5396209f19cf",
   "metadata": {},
   "outputs": [],
   "source": [
    "import geopy"
   ]
  },
  {
   "cell_type": "code",
   "execution_count": null,
   "id": "2fc72c20-6e9c-4b46-a206-da4018ada566",
   "metadata": {},
   "outputs": [],
   "source": [
    "geocoder = geopy.geocoders.Nominatim(user_agent=\"student\")\n",
    "geocoder.geocode(\"Cambridge\", exactly_one=False)"
   ]
  },
  {
   "cell_type": "code",
   "execution_count": null,
   "id": "2c512b3d-2ab9-49c6-903d-0f60e7b90be2",
   "metadata": {},
   "outputs": [],
   "source": [
    "def geolocate(place: str) -> Tuple[float, float]:\n",
    "    return geocoder.geocode(place, exactly_one=False)[0][1]"
   ]
  },
  {
   "cell_type": "code",
   "execution_count": null,
   "id": "2c322be7-a0ec-45b0-8739-1e5caa65b2e7",
   "metadata": {},
   "outputs": [],
   "source": [
    "paris_loc = geolocate(\"Singapore\")\n",
    "print(paris_loc)"
   ]
  },
  {
   "cell_type": "code",
   "execution_count": null,
   "id": "98775f5a-cae5-4aa9-9f0d-ddce8f0178ca",
   "metadata": {},
   "outputs": [],
   "source": [
    "from staticmap import StaticMap, CircleMarker"
   ]
  },
  {
   "cell_type": "code",
   "execution_count": null,
   "id": "2f57e26f-0df2-4e3b-8f2f-fd53e0bf5f5a",
   "metadata": {},
   "outputs": [],
   "source": [
    "def map_of_location(place: str, zoom=12, size=(400, 400)):\n",
    "    lat, lon = geolocate(place)\n",
    "    m = StaticMap(size[0], size[1], url_template='https://tile.openstreetmap.org/{z}/{x}/{y}.png')\n",
    "    m.add_marker(CircleMarker((lon, lat), 12, 5))\n",
    "    return m.render(zoom=zoom, center=(lon, lat))"
   ]
  },
  {
   "cell_type": "code",
   "execution_count": null,
   "id": "9fa03c4e-4f71-4380-92f9-08b98f0c8c5f",
   "metadata": {},
   "outputs": [],
   "source": [
    "map_sg = map_of_location(\"Singapore\", zoom=12)\n",
    "map_sg"
   ]
  },
  {
   "cell_type": "code",
   "execution_count": null,
   "id": "cf7b21a7-f335-416d-8d36-8c98e765de0a",
   "metadata": {},
   "outputs": [],
   "source": [
    "type(map_sg)"
   ]
  },
  {
   "cell_type": "code",
   "execution_count": null,
   "id": "f81b8f30-0321-43fc-a804-f8072a2669c1",
   "metadata": {},
   "outputs": [],
   "source": []
  }
 ],
 "metadata": {
  "kernelspec": {
   "display_name": "Python 3 (ipykernel)",
   "language": "python",
   "name": "python3"
  },
  "language_info": {
   "codemirror_mode": {
    "name": "ipython",
    "version": 3
   },
   "file_extension": ".py",
   "mimetype": "text/x-python",
   "name": "python",
   "nbconvert_exporter": "python",
   "pygments_lexer": "ipython3",
   "version": "3.13.7"
  }
 },
 "nbformat": 4,
 "nbformat_minor": 5
}
